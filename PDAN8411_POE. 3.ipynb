{
  "cells": [
    {
      "cell_type": "markdown",
      "metadata": {
        "id": "5CBnZQYjnRxR"
      },
      "source": [
        "## Data Set Source: https://www.kaggle.com/code/anaghakp/email-spam-detection/input  \n"
      ]
    },
    {
      "cell_type": "markdown",
      "metadata": {
        "id": "V842jhDJohTv"
      },
      "source": [
        "## Knowledge: Explanation of What Text Processing Is:\n",
        "#### Text Processing Explanation:\n",
        "Text processing involves transforming raw text into a format that can be analysed to extract meaningful information (Roldós, 2019). It involves several steps, including vectorization, lemmatization, stemming, tokenization, and removing stop words. By following these steps, the text can be converted into a structured format that machine learning models can analyse.  \n"
      ]
    },
    {
      "cell_type": "markdown",
      "metadata": {
        "id": "LI6A8mAhohJU"
      },
      "source": [
        "## Application: Explanation of Why the Chosen Dataset Is Appropriate for Analysis with Text Processing:  \n",
        "#### Why the Dataset Is Appropriate:\n",
        "The SMS Spam Collection dataset, which comprises SMS messages classified as either 'spam' or 'ham' (non-spam), is appropriate for text processing. This binary classification problem is well-suited for applying various text processing techniques to clean and prepare the text data, which can then be used to train and evaluate machine learning models. As is common with real-world text data, the dataset is reasonable in size and contains a mix of formal and informal language.  "
      ]
    },
    {
      "cell_type": "markdown",
      "metadata": {
        "id": "gKCOJyU3ohGL"
      },
      "source": [
        "## Application: An Explanation of What the Analysis Is That Will Be Conducted on the Dataset\n",
        "#### Analysis to Be Conducted:\n",
        "The analysis aims to build a text classification model to identify spam messages. The steps include:  \n",
        "1.\tText Preprocessing: Cleaning the text by removing punctuation and stop words, and performing tokenization.\n",
        "2.\tFeature Extraction: Converting text data into numerical features using Term Frequency-Inverse Document Frequency (TF-IDF).\n",
        "3.\tModel Training: Training a Naive Bayes classifier on the processed text data.\n",
        "4.\tModel Evaluation: Evaluating the model's performance using accuracy, precision, recall, and F1 score.\n",
        "5.\tModel Improvement: Experimenting with different preprocessing techniques and hyperparameters to enhance model performance.  "
      ]
    },
    {
      "cell_type": "markdown",
      "metadata": {
        "id": "Dy6P9qbQohDB"
      },
      "source": [
        "## Application: A Pipeline Is Used in the Python Code\n",
        "#### Pipeline Usage:\n",
        "The code provided uses a Pipeline from the sklearn.pipeline module to chain multiple steps in the analysis process. The pipeline includes:\n",
        "- CountVectorizer: For converting text data into a matrix of token counts.\n",
        "- TfidfTransformer: For converting token counts into TF-IDF features.\n",
        "- MultinomialNB: For training a Naive Bayes classifier.  "
      ]
    },
    {
      "cell_type": "markdown",
      "metadata": {
        "id": "xA0-CTCLog_a"
      },
      "source": [
        "## Knowledge: An Explanation of the Process Used for the Data Analysis\n",
        "#### Process Explanation:\n",
        "1.\tLoading Data: The dataset is read into a pandas DataFrame, and unnecessary columns are dropped.\n",
        "2.\tText Preprocessing: A custom function is defined to remove punctuation and stop words from the text data.\n",
        "3.\tSplitting Data: The data is split into training and test sets to evaluate the model's performance on unseen data.\n",
        "4.\tPipeline Creation: A pipeline is created to streamline the process of text vectorization and classification.\n",
        "5.\tModel Training: The pipeline is used to fit the model on the training data.\n",
        "6.\tMaking Predictions: The trained model is used to make predictions on the test data.\n",
        "7.\tEvaluation: The model's performance is evaluated using classification metrics.\n",
        "8.\tExample Predictions: The model is tested with new example messages to demonstrate its predictive capabilities."
      ]
    },
    {
      "cell_type": "code",
      "execution_count": 26,
      "metadata": {
        "id": "L9oyk2q5ZSjZ"
      },
      "outputs": [],
      "source": [
        "# Import libraries\n",
        "import nltk\n",
        "import pandas as pd\n",
        "import numpy as np\n",
        "import matplotlib.pyplot as plt\n",
        "import seaborn as sns\n",
        "import string\n",
        "from sklearn.feature_extraction.text import TfidfVectorizer\n",
        "from sklearn.model_selection import train_test_split, GridSearchCV\n",
        "from sklearn.naive_bayes import MultinomialNB\n",
        "from sklearn.pipeline import Pipeline\n",
        "from sklearn.metrics import classification_report, confusion_matrix, accuracy_score\n",
        "from nltk.corpus import stopwords\n",
        "from nltk.stem import PorterStemmer\n",
        "from nltk.tokenize import word_tokenize"
      ]
    },
    {
      "cell_type": "code",
      "execution_count": 27,
      "metadata": {
        "colab": {
          "base_uri": "https://localhost:8080/"
        },
        "id": "MhCrlUp8qB_l",
        "outputId": "8d1059fe-0fd4-453e-c9f7-a3d99fdf7c36"
      },
      "outputs": [
        {
          "name": "stderr",
          "output_type": "stream",
          "text": [
            "[nltk_data] Downloading package punkt to\n",
            "[nltk_data]     C:\\Users\\lab_services_student\\AppData\\Roaming\\nltk_dat\n",
            "[nltk_data]     a...\n",
            "[nltk_data]   Package punkt is already up-to-date!\n",
            "[nltk_data] Downloading package stopwords to\n",
            "[nltk_data]     C:\\Users\\lab_services_student\\AppData\\Roaming\\nltk_dat\n",
            "[nltk_data]     a...\n",
            "[nltk_data]   Package stopwords is already up-to-date!\n",
            "[nltk_data] Downloading package wordnet to\n",
            "[nltk_data]     C:\\Users\\lab_services_student\\AppData\\Roaming\\nltk_dat\n",
            "[nltk_data]     a...\n",
            "[nltk_data]   Package wordnet is already up-to-date!\n"
          ]
        },
        {
          "data": {
            "text/plain": [
              "True"
            ]
          },
          "execution_count": 27,
          "metadata": {},
          "output_type": "execute_result"
        }
      ],
      "source": [
        "# Download NLTK data\n",
        "nltk.download('punkt')\n",
        "nltk.download('stopwords')\n",
        "nltk.download('wordnet')"
      ]
    },
    {
      "cell_type": "code",
      "execution_count": 28,
      "metadata": {
        "id": "WhF5SN-iqB8s"
      },
      "outputs": [
        {
          "name": "stdout",
          "output_type": "stream",
          "text": [
            "This code reads a dataset named 'spam.csv'\n"
          ]
        }
      ],
      "source": [
        "# Load the dataset\n",
        "df = pd.read_csv(\"spam.csv\", encoding='latin-1')\n",
        "df.dropna(axis=1, inplace=True)\n",
        "df.columns = ['label', 'message']\n",
        "\n",
        "print(\"This code reads a dataset named 'spam.csv'\")"
      ]
    },
    {
      "cell_type": "code",
      "execution_count": 29,
      "metadata": {},
      "outputs": [
        {
          "name": "stdout",
          "output_type": "stream",
          "text": [
            "label      0\n",
            "message    0\n",
            "dtype: int64\n",
            "\n",
            "This code prints the sum of missing values in each column of the DataFrame 'df'.\n"
          ]
        }
      ],
      "source": [
        "# Check for missing values\n",
        "print(df.isnull().sum())\n",
        "\n",
        "print(\"\\nThis code prints the sum of missing values in each column of the DataFrame 'df'.\")"
      ]
    },
    {
      "cell_type": "code",
      "execution_count": 30,
      "metadata": {},
      "outputs": [
        {
          "data": {
            "text/plain": [
              "Index(['label', 'message'], dtype='object')"
            ]
          },
          "execution_count": 30,
          "metadata": {},
          "output_type": "execute_result"
        }
      ],
      "source": [
        "# Display the columns of the dataset\n",
        "df.columns"
      ]
    },
    {
      "cell_type": "code",
      "execution_count": 31,
      "metadata": {},
      "outputs": [
        {
          "data": {
            "text/html": [
              "<div>\n",
              "<style scoped>\n",
              "    .dataframe tbody tr th:only-of-type {\n",
              "        vertical-align: middle;\n",
              "    }\n",
              "\n",
              "    .dataframe tbody tr th {\n",
              "        vertical-align: top;\n",
              "    }\n",
              "\n",
              "    .dataframe thead th {\n",
              "        text-align: right;\n",
              "    }\n",
              "</style>\n",
              "<table border=\"1\" class=\"dataframe\">\n",
              "  <thead>\n",
              "    <tr style=\"text-align: right;\">\n",
              "      <th></th>\n",
              "      <th>label</th>\n",
              "      <th>message</th>\n",
              "    </tr>\n",
              "  </thead>\n",
              "  <tbody>\n",
              "    <tr>\n",
              "      <th>0</th>\n",
              "      <td>ham</td>\n",
              "      <td>Go until jurong point, crazy.. Available only ...</td>\n",
              "    </tr>\n",
              "    <tr>\n",
              "      <th>1</th>\n",
              "      <td>ham</td>\n",
              "      <td>Ok lar... Joking wif u oni...</td>\n",
              "    </tr>\n",
              "    <tr>\n",
              "      <th>2</th>\n",
              "      <td>spam</td>\n",
              "      <td>Free entry in 2 a wkly comp to win FA Cup fina...</td>\n",
              "    </tr>\n",
              "    <tr>\n",
              "      <th>3</th>\n",
              "      <td>ham</td>\n",
              "      <td>U dun say so early hor... U c already then say...</td>\n",
              "    </tr>\n",
              "    <tr>\n",
              "      <th>4</th>\n",
              "      <td>ham</td>\n",
              "      <td>Nah I don't think he goes to usf, he lives aro...</td>\n",
              "    </tr>\n",
              "    <tr>\n",
              "      <th>5</th>\n",
              "      <td>spam</td>\n",
              "      <td>FreeMsg Hey there darling it's been 3 week's n...</td>\n",
              "    </tr>\n",
              "    <tr>\n",
              "      <th>6</th>\n",
              "      <td>ham</td>\n",
              "      <td>Even my brother is not like to speak with me. ...</td>\n",
              "    </tr>\n",
              "    <tr>\n",
              "      <th>7</th>\n",
              "      <td>ham</td>\n",
              "      <td>As per your request 'Melle Melle (Oru Minnamin...</td>\n",
              "    </tr>\n",
              "    <tr>\n",
              "      <th>8</th>\n",
              "      <td>spam</td>\n",
              "      <td>WINNER!! As a valued network customer you have...</td>\n",
              "    </tr>\n",
              "    <tr>\n",
              "      <th>9</th>\n",
              "      <td>spam</td>\n",
              "      <td>Had your mobile 11 months or more? U R entitle...</td>\n",
              "    </tr>\n",
              "  </tbody>\n",
              "</table>\n",
              "</div>"
            ],
            "text/plain": [
              "  label                                            message\n",
              "0   ham  Go until jurong point, crazy.. Available only ...\n",
              "1   ham                      Ok lar... Joking wif u oni...\n",
              "2  spam  Free entry in 2 a wkly comp to win FA Cup fina...\n",
              "3   ham  U dun say so early hor... U c already then say...\n",
              "4   ham  Nah I don't think he goes to usf, he lives aro...\n",
              "5  spam  FreeMsg Hey there darling it's been 3 week's n...\n",
              "6   ham  Even my brother is not like to speak with me. ...\n",
              "7   ham  As per your request 'Melle Melle (Oru Minnamin...\n",
              "8  spam  WINNER!! As a valued network customer you have...\n",
              "9  spam  Had your mobile 11 months or more? U R entitle..."
            ]
          },
          "execution_count": 31,
          "metadata": {},
          "output_type": "execute_result"
        }
      ],
      "source": [
        "# Display the first 5 rows of the dataset\n",
        "df.head(10)"
      ]
    },
    {
      "cell_type": "code",
      "execution_count": 32,
      "metadata": {
        "id": "4HjqV4XiqB5b"
      },
      "outputs": [
        {
          "name": "stdout",
          "output_type": "stream",
          "text": [
            "\n",
            "This code preprocesses text by stemming and removing stopwords.\n"
          ]
        }
      ],
      "source": [
        "# ***************************************************************************************\n",
        "#    Title: Introduction to NLTK: Tokenization, Stemming, Lemmatization, POS Tagging\n",
        "#    Author: GeeksforGeeks\n",
        "#    Date Published: 01 May 2024 \n",
        "#    Date Retrieved: 20 June 2024\n",
        "#    Code version: 1\n",
        "#    Availability: https://www.geeksforgeeks.org/introduction-to-nltk-tokenization-stemming-lemmatization-pos-tagging/\n",
        "#\n",
        "# ***************************************************************************************\n",
        "\n",
        "# ***************************************************************************************\n",
        "#    Title: Python | Stemming words with NLTK\n",
        "#    Author: GeeksforGeeks\n",
        "#    Date Published: 15 April 2023\n",
        "#    Date Retrieved: 20 June 2024\n",
        "#    Code version: 1\n",
        "#    Availability: https://www.geeksforgeeks.org/python-stemming-words-with-nltk/\n",
        "#\n",
        "# ***************************************************************************************\n",
        "\n",
        "# Text preprocessing function with Stemming and Lemmatization\n",
        "def text_process(mess):\n",
        "    STOPWORDS = set(stopwords.words('english') + ['u', 'ü', 'ur', '4', '2', 'im', 'dont', 'doin', 'ure'])\n",
        "    porter = PorterStemmer()\n",
        "    nopunc = ''.join([char for char in mess if char not in string.punctuation])\n",
        "    tokens = word_tokenize(nopunc.lower())\n",
        "    stemmed_words = [porter.stem(word) for word in tokens if word not in STOPWORDS]\n",
        "    return ' '.join(stemmed_words)\n",
        "\n",
        "print(\"\\nThis code preprocesses text by stemming and removing stopwords.\")"
      ]
    },
    {
      "cell_type": "code",
      "execution_count": 33,
      "metadata": {
        "id": "qMZZ4hpVqB2L"
      },
      "outputs": [
        {
          "name": "stdout",
          "output_type": "stream",
          "text": [
            "\n",
            "This code applies text preprocessing to a DataFrame column.\n"
          ]
        }
      ],
      "source": [
        "# Apply text preprocessing\n",
        "df['clean_msg'] = df['message'].apply(text_process)\n",
        "\n",
        "print(\"\\nThis code applies text preprocessing to a DataFrame column.\")"
      ]
    },
    {
      "cell_type": "code",
      "execution_count": 34,
      "metadata": {
        "id": "MVXshR5dqBzT"
      },
      "outputs": [
        {
          "name": "stdout",
          "output_type": "stream",
          "text": [
            "\n",
            "This code encodes 'ham' as 0 and 'spam' as 1.\n"
          ]
        },
        {
          "data": {
            "text/html": [
              "<div>\n",
              "<style scoped>\n",
              "    .dataframe tbody tr th:only-of-type {\n",
              "        vertical-align: middle;\n",
              "    }\n",
              "\n",
              "    .dataframe tbody tr th {\n",
              "        vertical-align: top;\n",
              "    }\n",
              "\n",
              "    .dataframe thead th {\n",
              "        text-align: right;\n",
              "    }\n",
              "</style>\n",
              "<table border=\"1\" class=\"dataframe\">\n",
              "  <thead>\n",
              "    <tr style=\"text-align: right;\">\n",
              "      <th></th>\n",
              "      <th>label</th>\n",
              "      <th>message</th>\n",
              "      <th>clean_msg</th>\n",
              "      <th>label_num</th>\n",
              "    </tr>\n",
              "  </thead>\n",
              "  <tbody>\n",
              "    <tr>\n",
              "      <th>0</th>\n",
              "      <td>ham</td>\n",
              "      <td>Go until jurong point, crazy.. Available only ...</td>\n",
              "      <td>go jurong point crazi avail bugi n great world...</td>\n",
              "      <td>0</td>\n",
              "    </tr>\n",
              "    <tr>\n",
              "      <th>1</th>\n",
              "      <td>ham</td>\n",
              "      <td>Ok lar... Joking wif u oni...</td>\n",
              "      <td>ok lar joke wif oni</td>\n",
              "      <td>0</td>\n",
              "    </tr>\n",
              "    <tr>\n",
              "      <th>2</th>\n",
              "      <td>spam</td>\n",
              "      <td>Free entry in 2 a wkly comp to win FA Cup fina...</td>\n",
              "      <td>free entri wkli comp win fa cup final tkt 21st...</td>\n",
              "      <td>1</td>\n",
              "    </tr>\n",
              "    <tr>\n",
              "      <th>3</th>\n",
              "      <td>ham</td>\n",
              "      <td>U dun say so early hor... U c already then say...</td>\n",
              "      <td>dun say earli hor c alreadi say</td>\n",
              "      <td>0</td>\n",
              "    </tr>\n",
              "    <tr>\n",
              "      <th>4</th>\n",
              "      <td>ham</td>\n",
              "      <td>Nah I don't think he goes to usf, he lives aro...</td>\n",
              "      <td>nah think goe usf live around though</td>\n",
              "      <td>0</td>\n",
              "    </tr>\n",
              "  </tbody>\n",
              "</table>\n",
              "</div>"
            ],
            "text/plain": [
              "  label                                            message  \\\n",
              "0   ham  Go until jurong point, crazy.. Available only ...   \n",
              "1   ham                      Ok lar... Joking wif u oni...   \n",
              "2  spam  Free entry in 2 a wkly comp to win FA Cup fina...   \n",
              "3   ham  U dun say so early hor... U c already then say...   \n",
              "4   ham  Nah I don't think he goes to usf, he lives aro...   \n",
              "\n",
              "                                           clean_msg  label_num  \n",
              "0  go jurong point crazi avail bugi n great world...          0  \n",
              "1                                ok lar joke wif oni          0  \n",
              "2  free entri wkli comp win fa cup final tkt 21st...          1  \n",
              "3                    dun say earli hor c alreadi say          0  \n",
              "4               nah think goe usf live around though          0  "
            ]
          },
          "execution_count": 34,
          "metadata": {},
          "output_type": "execute_result"
        }
      ],
      "source": [
        "# ***************************************************************************************\n",
        "#    Title: Label Encoding in Python\n",
        "#    Author: GeeksforGeeks\n",
        "#    Date Published: 1 April 2023\n",
        "#    Date Retrieved: 22 June 2024\n",
        "#    Code version: 1\n",
        "#    Availability: https://www.geeksforgeeks.org/ml-label-encoding-of-datasets-in-python/\n",
        "#\n",
        "# ***************************************************************************************\n",
        "\n",
        "# Encode labels\n",
        "df['label_num'] = df.label.map({'ham': 0, 'spam': 1})\n",
        "\n",
        "print(\"\\nThis code encodes 'ham' as 0 and 'spam' as 1.\")\n",
        "df.head()"
      ]
    },
    {
      "cell_type": "code",
      "execution_count": 35,
      "metadata": {
        "id": "ZokbG-A6qBwC"
      },
      "outputs": [
        {
          "name": "stdout",
          "output_type": "stream",
          "text": [
            "\n",
            "This code splits dataset for training and testing.\n",
            "(4457,)\n",
            "(1115,)\n",
            "(4457,)\n",
            "(1115,)\n"
          ]
        }
      ],
      "source": [
        "# ***************************************************************************************\n",
        "#    Title: Machine Learning - Train/Test\n",
        "#    Author: W3Schools\n",
        "#    Date Published: 2024\n",
        "#    Date Retrieved: 24 June 2024\n",
        "#    Code version: 1\n",
        "#    Availability: https://www.w3schools.com/python/python_ml_train_test.asp\n",
        "#\n",
        "# ***************************************************************************************\n",
        "\n",
        "# Split the dataset into training and test sets\n",
        "X_train, X_test, y_train, y_test = train_test_split(df['clean_msg'], df['label_num'], test_size=0.2, random_state=1)\n",
        "\n",
        "print(\"\\nThis code splits dataset for training and testing.\")\n",
        "print(X_train.shape)\n",
        "print(X_test.shape)\n",
        "print(y_train.shape)\n",
        "print(y_test.shape)"
      ]
    },
    {
      "cell_type": "code",
      "execution_count": 36,
      "metadata": {
        "id": "aFXxhgqXqBsq"
      },
      "outputs": [
        {
          "name": "stdout",
          "output_type": "stream",
          "text": [
            "\n",
            "This code creates a pipeline for text classification.\n"
          ]
        }
      ],
      "source": [
        "# ***************************************************************************************\n",
        "#    Title: SVM Hyperparameter Tuning using GridSearchCV | ML\n",
        "#    Author: GeeksforGeeks\n",
        "#    Date Published: 11 January 2023\n",
        "#    Date Retrieved: 25 June 2024\n",
        "#    Code version: 1\n",
        "#    Availability: https://www.geeksforgeeks.org/svm-hyperparameter-tuning-using-gridsearchcv-ml/\n",
        "#\n",
        "# ***************************************************************************************\n",
        "\n",
        "# Create a pipeline with GridSearchCV for hyperparameter tuning\n",
        "pipeline = Pipeline([\n",
        "    ('tfidf', TfidfVectorizer()),\n",
        "    ('clf', MultinomialNB())\n",
        "])\n",
        "\n",
        "print(\"\\nThis code creates a pipeline for text classification.\")"
      ]
    },
    {
      "cell_type": "code",
      "execution_count": 52,
      "metadata": {
        "id": "-3Hh5-ilqBlf"
      },
      "outputs": [
        {
          "name": "stdout",
          "output_type": "stream",
          "text": [
            "\n",
            "This code defines parameters for GridSearchCV tuning for text classification.\n"
          ]
        }
      ],
      "source": [
        "# ***************************************************************************************\n",
        "#    Title: Hyperparameter tuning using GridSearchCV and KerasClassifier\n",
        "#    Author: GeeksforGeeks\n",
        "#    Date Published: 20 May 2024\n",
        "#    Date Retrieved: 25 June 2024\n",
        "#    Code version: 1\n",
        "#    Availability: https://www.geeksforgeeks.org/hyperparameter-tuning-using-gridsearchcv-and-kerasclassifier/\n",
        "#\n",
        "# ***************************************************************************************\n",
        "\n",
        "# Define the parameters for GridSearchCV\n",
        "parameters = {'tfidf__max_df': (0.5, 0.75, 1.0),\n",
        "    'tfidf__ngram_range': ((1, 1), (1, 2)),\n",
        "    'clf__alpha': (1e-2, 1e-3)\n",
        "}\n",
        "\n",
        "print(\"\\nThis code defines parameters for GridSearchCV tuning for text classification.\")"
      ]
    },
    {
      "cell_type": "code",
      "execution_count": 38,
      "metadata": {
        "colab": {
          "base_uri": "https://localhost:8080/",
          "height": 170
        },
        "id": "Pfqrx-sGqMiI",
        "outputId": "cec2f7a1-7317-4535-d2cd-6e5d4266c96d"
      },
      "outputs": [
        {
          "name": "stdout",
          "output_type": "stream",
          "text": [
            "Fitting 5 folds for each of 12 candidates, totalling 60 fits\n"
          ]
        },
        {
          "data": {
            "text/html": [
              "<style>#sk-container-id-2 {color: black;}#sk-container-id-2 pre{padding: 0;}#sk-container-id-2 div.sk-toggleable {background-color: white;}#sk-container-id-2 label.sk-toggleable__label {cursor: pointer;display: block;width: 100%;margin-bottom: 0;padding: 0.3em;box-sizing: border-box;text-align: center;}#sk-container-id-2 label.sk-toggleable__label-arrow:before {content: \"▸\";float: left;margin-right: 0.25em;color: #696969;}#sk-container-id-2 label.sk-toggleable__label-arrow:hover:before {color: black;}#sk-container-id-2 div.sk-estimator:hover label.sk-toggleable__label-arrow:before {color: black;}#sk-container-id-2 div.sk-toggleable__content {max-height: 0;max-width: 0;overflow: hidden;text-align: left;background-color: #f0f8ff;}#sk-container-id-2 div.sk-toggleable__content pre {margin: 0.2em;color: black;border-radius: 0.25em;background-color: #f0f8ff;}#sk-container-id-2 input.sk-toggleable__control:checked~div.sk-toggleable__content {max-height: 200px;max-width: 100%;overflow: auto;}#sk-container-id-2 input.sk-toggleable__control:checked~label.sk-toggleable__label-arrow:before {content: \"▾\";}#sk-container-id-2 div.sk-estimator input.sk-toggleable__control:checked~label.sk-toggleable__label {background-color: #d4ebff;}#sk-container-id-2 div.sk-label input.sk-toggleable__control:checked~label.sk-toggleable__label {background-color: #d4ebff;}#sk-container-id-2 input.sk-hidden--visually {border: 0;clip: rect(1px 1px 1px 1px);clip: rect(1px, 1px, 1px, 1px);height: 1px;margin: -1px;overflow: hidden;padding: 0;position: absolute;width: 1px;}#sk-container-id-2 div.sk-estimator {font-family: monospace;background-color: #f0f8ff;border: 1px dotted black;border-radius: 0.25em;box-sizing: border-box;margin-bottom: 0.5em;}#sk-container-id-2 div.sk-estimator:hover {background-color: #d4ebff;}#sk-container-id-2 div.sk-parallel-item::after {content: \"\";width: 100%;border-bottom: 1px solid gray;flex-grow: 1;}#sk-container-id-2 div.sk-label:hover label.sk-toggleable__label {background-color: #d4ebff;}#sk-container-id-2 div.sk-serial::before {content: \"\";position: absolute;border-left: 1px solid gray;box-sizing: border-box;top: 0;bottom: 0;left: 50%;z-index: 0;}#sk-container-id-2 div.sk-serial {display: flex;flex-direction: column;align-items: center;background-color: white;padding-right: 0.2em;padding-left: 0.2em;position: relative;}#sk-container-id-2 div.sk-item {position: relative;z-index: 1;}#sk-container-id-2 div.sk-parallel {display: flex;align-items: stretch;justify-content: center;background-color: white;position: relative;}#sk-container-id-2 div.sk-item::before, #sk-container-id-2 div.sk-parallel-item::before {content: \"\";position: absolute;border-left: 1px solid gray;box-sizing: border-box;top: 0;bottom: 0;left: 50%;z-index: -1;}#sk-container-id-2 div.sk-parallel-item {display: flex;flex-direction: column;z-index: 1;position: relative;background-color: white;}#sk-container-id-2 div.sk-parallel-item:first-child::after {align-self: flex-end;width: 50%;}#sk-container-id-2 div.sk-parallel-item:last-child::after {align-self: flex-start;width: 50%;}#sk-container-id-2 div.sk-parallel-item:only-child::after {width: 0;}#sk-container-id-2 div.sk-dashed-wrapped {border: 1px dashed gray;margin: 0 0.4em 0.5em 0.4em;box-sizing: border-box;padding-bottom: 0.4em;background-color: white;}#sk-container-id-2 div.sk-label label {font-family: monospace;font-weight: bold;display: inline-block;line-height: 1.2em;}#sk-container-id-2 div.sk-label-container {text-align: center;}#sk-container-id-2 div.sk-container {/* jupyter's `normalize.less` sets `[hidden] { display: none; }` but bootstrap.min.css set `[hidden] { display: none !important; }` so we also need the `!important` here to be able to override the default hidden behavior on the sphinx rendered scikit-learn.org. See: https://github.com/scikit-learn/scikit-learn/issues/21755 */display: inline-block !important;position: relative;}#sk-container-id-2 div.sk-text-repr-fallback {display: none;}</style><div id=\"sk-container-id-2\" class=\"sk-top-container\"><div class=\"sk-text-repr-fallback\"><pre>GridSearchCV(cv=5,\n",
              "             estimator=Pipeline(steps=[(&#x27;tfidf&#x27;, TfidfVectorizer()),\n",
              "                                       (&#x27;clf&#x27;, MultinomialNB())]),\n",
              "             n_jobs=-1,\n",
              "             param_grid={&#x27;clf__alpha&#x27;: (0.01, 0.001),\n",
              "                         &#x27;tfidf__max_df&#x27;: (0.5, 0.75, 1.0),\n",
              "                         &#x27;tfidf__ngram_range&#x27;: ((1, 1), (1, 2))},\n",
              "             verbose=1)</pre><b>In a Jupyter environment, please rerun this cell to show the HTML representation or trust the notebook. <br />On GitHub, the HTML representation is unable to render, please try loading this page with nbviewer.org.</b></div><div class=\"sk-container\" hidden><div class=\"sk-item sk-dashed-wrapped\"><div class=\"sk-label-container\"><div class=\"sk-label sk-toggleable\"><input class=\"sk-toggleable__control sk-hidden--visually\" id=\"sk-estimator-id-5\" type=\"checkbox\" ><label for=\"sk-estimator-id-5\" class=\"sk-toggleable__label sk-toggleable__label-arrow\">GridSearchCV</label><div class=\"sk-toggleable__content\"><pre>GridSearchCV(cv=5,\n",
              "             estimator=Pipeline(steps=[(&#x27;tfidf&#x27;, TfidfVectorizer()),\n",
              "                                       (&#x27;clf&#x27;, MultinomialNB())]),\n",
              "             n_jobs=-1,\n",
              "             param_grid={&#x27;clf__alpha&#x27;: (0.01, 0.001),\n",
              "                         &#x27;tfidf__max_df&#x27;: (0.5, 0.75, 1.0),\n",
              "                         &#x27;tfidf__ngram_range&#x27;: ((1, 1), (1, 2))},\n",
              "             verbose=1)</pre></div></div></div><div class=\"sk-parallel\"><div class=\"sk-parallel-item\"><div class=\"sk-item\"><div class=\"sk-label-container\"><div class=\"sk-label sk-toggleable\"><input class=\"sk-toggleable__control sk-hidden--visually\" id=\"sk-estimator-id-6\" type=\"checkbox\" ><label for=\"sk-estimator-id-6\" class=\"sk-toggleable__label sk-toggleable__label-arrow\">estimator: Pipeline</label><div class=\"sk-toggleable__content\"><pre>Pipeline(steps=[(&#x27;tfidf&#x27;, TfidfVectorizer()), (&#x27;clf&#x27;, MultinomialNB())])</pre></div></div></div><div class=\"sk-serial\"><div class=\"sk-item\"><div class=\"sk-serial\"><div class=\"sk-item\"><div class=\"sk-estimator sk-toggleable\"><input class=\"sk-toggleable__control sk-hidden--visually\" id=\"sk-estimator-id-7\" type=\"checkbox\" ><label for=\"sk-estimator-id-7\" class=\"sk-toggleable__label sk-toggleable__label-arrow\">TfidfVectorizer</label><div class=\"sk-toggleable__content\"><pre>TfidfVectorizer()</pre></div></div></div><div class=\"sk-item\"><div class=\"sk-estimator sk-toggleable\"><input class=\"sk-toggleable__control sk-hidden--visually\" id=\"sk-estimator-id-8\" type=\"checkbox\" ><label for=\"sk-estimator-id-8\" class=\"sk-toggleable__label sk-toggleable__label-arrow\">MultinomialNB</label><div class=\"sk-toggleable__content\"><pre>MultinomialNB()</pre></div></div></div></div></div></div></div></div></div></div></div></div>"
            ],
            "text/plain": [
              "GridSearchCV(cv=5,\n",
              "             estimator=Pipeline(steps=[('tfidf', TfidfVectorizer()),\n",
              "                                       ('clf', MultinomialNB())]),\n",
              "             n_jobs=-1,\n",
              "             param_grid={'clf__alpha': (0.01, 0.001),\n",
              "                         'tfidf__max_df': (0.5, 0.75, 1.0),\n",
              "                         'tfidf__ngram_range': ((1, 1), (1, 2))},\n",
              "             verbose=1)"
            ]
          },
          "execution_count": 38,
          "metadata": {},
          "output_type": "execute_result"
        }
      ],
      "source": [
        "# ***************************************************************************************\n",
        "#    Title: SVM Hyperparameter Tuning using GridSearchCV | ML\n",
        "#    Author: GeeksforGeeks\n",
        "#    Date Published: 11 January 2023\n",
        "#    Date Retrieved: 25 June 2024\n",
        "#    Code version: 1\n",
        "#    Availability: https://www.geeksforgeeks.org/svm-hyperparameter-tuning-using-gridsearchcv-ml/\n",
        "#\n",
        "# ***************************************************************************************\n",
        "\n",
        "# Perform GridSearchCV\n",
        "grid_search = GridSearchCV(pipeline, parameters, cv=5, n_jobs=-1, verbose=1)\n",
        "grid_search.fit(X_train, y_train)"
      ]
    },
    {
      "cell_type": "code",
      "execution_count": 39,
      "metadata": {
        "colab": {
          "base_uri": "https://localhost:8080/"
        },
        "id": "zct70yYlqMen",
        "outputId": "126c226d-70ca-493e-d06a-17968dd9ec8e"
      },
      "outputs": [
        {
          "name": "stdout",
          "output_type": "stream",
          "text": [
            "Best parameters:\n",
            "{'clf__alpha': 0.01, 'tfidf__max_df': 0.5, 'tfidf__ngram_range': (1, 2)}\n"
          ]
        }
      ],
      "source": [
        "# Print the best parameters found by GridSearchCV\n",
        "print(\"Best parameters:\")\n",
        "print(grid_search.best_params_)"
      ]
    },
    {
      "cell_type": "code",
      "execution_count": 40,
      "metadata": {
        "id": "ZcEk9KmNqMa_"
      },
      "outputs": [
        {
          "data": {
            "text/plain": [
              "array([0, 0, 0, ..., 0, 0, 0], dtype=int64)"
            ]
          },
          "execution_count": 40,
          "metadata": {},
          "output_type": "execute_result"
        }
      ],
      "source": [
        "# Make predictions using a grid search model\n",
        "predictions = grid_search.predict(X_test)\n",
        "predictions"
      ]
    },
    {
      "cell_type": "code",
      "execution_count": 41,
      "metadata": {
        "colab": {
          "base_uri": "https://localhost:8080/"
        },
        "id": "M73Qt6eSqMX3",
        "outputId": "600eed8f-40a0-470f-cf46-696183b8cf29"
      },
      "outputs": [
        {
          "name": "stdout",
          "output_type": "stream",
          "text": [
            "\n",
            "This code evaluates a machine learning model:\n",
            "\n",
            "Classification Report:\n",
            "               precision    recall  f1-score   support\n",
            "\n",
            "           0       0.99      1.00      0.99       976\n",
            "           1       0.98      0.92      0.95       139\n",
            "\n",
            "    accuracy                           0.99      1115\n",
            "   macro avg       0.98      0.96      0.97      1115\n",
            "weighted avg       0.99      0.99      0.99      1115\n",
            "\n"
          ]
        }
      ],
      "source": [
        "# Evaluate the model\n",
        "print(\"\\nThis code evaluates a machine learning model:\\n\")\n",
        "print(\"Classification Report:\\n\", classification_report(y_test, predictions))  # Shows precision, recall, F1-score per class"
      ]
    },
    {
      "cell_type": "code",
      "execution_count": 42,
      "metadata": {},
      "outputs": [
        {
          "name": "stdout",
          "output_type": "stream",
          "text": [
            "\n",
            "This code evaluates a machine learning model:\n",
            "\n",
            "Confusion Matrix:\n",
            " [[973   3]\n",
            " [ 11 128]]\n"
          ]
        }
      ],
      "source": [
        "# Evaluate the model\n",
        "print(\"\\nThis code evaluates a machine learning model:\\n\")\n",
        "print(\"Confusion Matrix:\\n\", confusion_matrix(y_test, predictions))  # Displays true/false positives/negatives"
      ]
    },
    {
      "cell_type": "code",
      "execution_count": 43,
      "metadata": {},
      "outputs": [
        {
          "name": "stdout",
          "output_type": "stream",
          "text": [
            "\n",
            "This code evaluates a machine learning model:\n",
            "\n",
            "Accuracy Score:  0.9874439461883409\n"
          ]
        }
      ],
      "source": [
        "# Evaluate the model\n",
        "print(\"\\nThis code evaluates a machine learning model:\\n\")\n",
        "print(\"Accuracy Score: \", accuracy_score(y_test, predictions))  # Calculates the accuracy of the model"
      ]
    },
    {
      "cell_type": "code",
      "execution_count": 44,
      "metadata": {},
      "outputs": [
        {
          "data": {
            "text/plain": [
              "420     yesfrom last week take live call\n",
              "4987                             channel\n",
              "494                     free nowcan call\n",
              "Name: clean_msg, dtype: object"
            ]
          },
          "execution_count": 44,
          "metadata": {},
          "output_type": "execute_result"
        }
      ],
      "source": [
        "X_test[predictions > y_test] # print false positives (ham incorrectly classifier)"
      ]
    },
    {
      "cell_type": "code",
      "execution_count": 45,
      "metadata": {},
      "outputs": [
        {
          "data": {
            "text/plain": [
              "3528    xma new year eve ticket sale club day 10am til...\n",
              "1662    hi lookin sauci daytim fun wiv busti marri wom...\n",
              "3417    life never much fun great came made truli spec...\n",
              "2773    come take littl time child afraid dark becom t...\n",
              "1960    guess somebodi know secretli fanci wan na find...\n",
              "517      credit top httpwwwbubbletextcom renew pin tgxxrz\n",
              "2078                         85233 freeringtonerepli real\n",
              "1457    clair havin borin time alon wan na cum 2nite c...\n",
              "190     uniqu enough find 30th august wwwareyouuniquecouk\n",
              "2429    guess ithi first time creat web page wwwasjesu...\n",
              "1021    guess somebodi know secretli fanci wan na find...\n",
              "Name: clean_msg, dtype: object"
            ]
          },
          "execution_count": 45,
          "metadata": {},
          "output_type": "execute_result"
        }
      ],
      "source": [
        "X_test[predictions < y_test] # print false positives (ham incorrectly classifier)"
      ]
    },
    {
      "cell_type": "code",
      "execution_count": 51,
      "metadata": {
        "id": "lNUwxXGnqMU4"
      },
      "outputs": [
        {
          "name": "stdout",
          "output_type": "stream",
          "text": [
            "\n",
            "This code adds predicted labels to the dataset.\n"
          ]
        },
        {
          "data": {
            "text/html": [
              "<div>\n",
              "<style scoped>\n",
              "    .dataframe tbody tr th:only-of-type {\n",
              "        vertical-align: middle;\n",
              "    }\n",
              "\n",
              "    .dataframe tbody tr th {\n",
              "        vertical-align: top;\n",
              "    }\n",
              "\n",
              "    .dataframe thead th {\n",
              "        text-align: right;\n",
              "    }\n",
              "</style>\n",
              "<table border=\"1\" class=\"dataframe\">\n",
              "  <thead>\n",
              "    <tr style=\"text-align: right;\">\n",
              "      <th></th>\n",
              "      <th>label</th>\n",
              "      <th>message</th>\n",
              "      <th>clean_msg</th>\n",
              "      <th>label_num</th>\n",
              "      <th>pred_label</th>\n",
              "    </tr>\n",
              "  </thead>\n",
              "  <tbody>\n",
              "    <tr>\n",
              "      <th>0</th>\n",
              "      <td>ham</td>\n",
              "      <td>Go until jurong point, crazy.. Available only ...</td>\n",
              "      <td>go jurong point crazi avail bugi n great world...</td>\n",
              "      <td>0</td>\n",
              "      <td>0</td>\n",
              "    </tr>\n",
              "    <tr>\n",
              "      <th>1</th>\n",
              "      <td>ham</td>\n",
              "      <td>Ok lar... Joking wif u oni...</td>\n",
              "      <td>ok lar joke wif oni</td>\n",
              "      <td>0</td>\n",
              "      <td>0</td>\n",
              "    </tr>\n",
              "    <tr>\n",
              "      <th>2</th>\n",
              "      <td>spam</td>\n",
              "      <td>Free entry in 2 a wkly comp to win FA Cup fina...</td>\n",
              "      <td>free entri wkli comp win fa cup final tkt 21st...</td>\n",
              "      <td>1</td>\n",
              "      <td>1</td>\n",
              "    </tr>\n",
              "    <tr>\n",
              "      <th>3</th>\n",
              "      <td>ham</td>\n",
              "      <td>U dun say so early hor... U c already then say...</td>\n",
              "      <td>dun say earli hor c alreadi say</td>\n",
              "      <td>0</td>\n",
              "      <td>0</td>\n",
              "    </tr>\n",
              "    <tr>\n",
              "      <th>4</th>\n",
              "      <td>ham</td>\n",
              "      <td>Nah I don't think he goes to usf, he lives aro...</td>\n",
              "      <td>nah think goe usf live around though</td>\n",
              "      <td>0</td>\n",
              "      <td>0</td>\n",
              "    </tr>\n",
              "  </tbody>\n",
              "</table>\n",
              "</div>"
            ],
            "text/plain": [
              "  label                                            message  \\\n",
              "0   ham  Go until jurong point, crazy.. Available only ...   \n",
              "1   ham                      Ok lar... Joking wif u oni...   \n",
              "2  spam  Free entry in 2 a wkly comp to win FA Cup fina...   \n",
              "3   ham  U dun say so early hor... U c already then say...   \n",
              "4   ham  Nah I don't think he goes to usf, he lives aro...   \n",
              "\n",
              "                                           clean_msg  label_num  pred_label  \n",
              "0  go jurong point crazi avail bugi n great world...          0           0  \n",
              "1                                ok lar joke wif oni          0           0  \n",
              "2  free entri wkli comp win fa cup final tkt 21st...          1           1  \n",
              "3                    dun say earli hor c alreadi say          0           0  \n",
              "4               nah think goe usf live around though          0           0  "
            ]
          },
          "execution_count": 51,
          "metadata": {},
          "output_type": "execute_result"
        }
      ],
      "source": [
        "# Add predicted labels to the dataset\n",
        "df['pred_label'] = grid_search.predict(df['clean_msg'])\n",
        "\n",
        "print(\"\\nThis code adds predicted labels to the dataset.\")\n",
        "\n",
        "df.head()"
      ]
    },
    {
      "cell_type": "code",
      "execution_count": 47,
      "metadata": {
        "colab": {
          "base_uri": "https://localhost:8080/",
          "height": 545
        },
        "id": "E0lSEmMeqMRg",
        "outputId": "a40fedd8-29de-4f41-ed47-86bc7e2eca0a"
      },
      "outputs": [
        {
          "name": "stdout",
          "output_type": "stream",
          "text": [
            "\n",
            "This code visualizes a confusion matrix.\n"
          ]
        },
        {
          "data": {
            "image/png": "[encoded data removed]",
            "text/plain": [
              "<Figure size 1000x600 with 1 Axes>"
            ]
          },
          "metadata": {},
          "output_type": "display_data"
        }
      ],
      "source": [
        "# ***************************************************************************************\n",
        "#    Title: Confusion Matrix in Machine Learning\n",
        "#    Author: GeeksforGeeks\n",
        "#    Date Published: 13 May 2024\n",
        "#    Date Retrieved: 27 June 2024\n",
        "#    Code version: 1\n",
        "#    Availability: https://www.geeksforgeeks.org/confusion-matrix-machine-learning/\n",
        "#\n",
        "# ***************************************************************************************\n",
        "\n",
        "# Visualize the results using a confusion matrix\n",
        "print(\"\\nThis code visualizes a confusion matrix.\")\n",
        "\n",
        "conf_matrix = pd.DataFrame(confusion_matrix(df['label_num'], df['pred_label']),\n",
        "                        index=['Actual Ham', 'Actual Spam'], columns=['Predicted Ham', 'Predicted Spam'])\n",
        "\n",
        "plt.figure(figsize=(10, 6))\n",
        "sns.heatmap(conf_matrix, annot=True, fmt='d', cmap='coolwarm', cbar=False)\n",
        "plt.title('Confusion Matrix')\n",
        "plt.show()"
      ]
    },
    {
      "cell_type": "code",
      "execution_count": 56,
      "metadata": {
        "colab": {
          "base_uri": "https://localhost:8080/"
        },
        "id": "Itw6eShIqUYD",
        "outputId": "36625a77-3960-466a-ef80-6f13d9e9746a"
      },
      "outputs": [
        {
          "name": "stdout",
          "output_type": "stream",
          "text": [
            "\n",
            "This code predicts text using a trained model.\n",
            "\n",
            "Prediction for 'I love hiking in the mountains.':  [0]\n",
            "Prediction for 'SHOPRITE XTRA SAVINGS: Get 5kg Goldi frozen mixed chicken portions for R169.99. Valid 05 - 11 June 2024. SMS=STOP':  [1]\n"
          ]
        }
      ],
      "source": [
        "# Example predictions\n",
        "print(\"\\nThis code predicts text using a trained model.\")\n",
        "\n",
        "print(\"\\nPrediction for 'I love hiking in the mountains.': \", grid_search.predict([\"I love hiking in the mountains.\"]))\n",
        "print(\"Prediction for 'SHOPRITE XTRA SAVINGS: Get 5kg Goldi frozen mixed chicken portions for R169.99. Valid 05 - 11 June 2024. SMS=STOP': \", grid_search.predict([\"SHOPRITE XTRA SAVINGS: Get 5kg Goldi frozen mixed chicken portions for R169.99. Valid 05 - 11 June 2024. SMS=STOP\"]))"
      ]
    },
    {
      "cell_type": "markdown",
      "metadata": {},
      "source": [
        "# References\n",
        "•\tGeeksforGeeks. (2023, April 18). Label Encoding in Python. Retrieved June 22, 2024, from GeeksforGeeks: https://www.geeksforgeeks.org/ml-label-encoding-of-datasets-in-python/  \n",
        "•\tGeeksforGeeks. (2023, April 15). Python | Stemming words with NLTK. Retrieved June 20, 2024, from GeeksforGeeks: https://www.geeksforgeeks.org/python-stemming-words-with-nltk/  \n",
        "•\tGeeksforGeeks. (2023, January 11). SVM Hyperparameter Tuning using GridSearchCV | ML. Retrieved June 25, 2024, from GeeksforGeeks: https://www.geeksforgeeks.org/svm-hyperparameter-tuning-using-gridsearchcv-ml/  \n",
        "•\tGeeksforGeeks. (2024, May 13). Confusion Matrix in Machine Learning. Retrieved June 27, 2024, from GeeksforGeeks: https://www.geeksforgeeks.org/confusion-matrix-machine-learning/  \n",
        "•\tGeeksforGeeks. (2024, March 20). Hyperparameter tuning using GridSearchCV and KerasClassifier. Retrieved June 25, 2024, from GeeksforGeeks: https://www.geeksforgeeks.org/hyperparameter-tuning-using-gridsearchcv-and-kerasclassifier/  \n",
        "•\tGeeksforGeeks. (2024, May 1). Introduction to NLTK: Tokenization, Stemming, Lemmatization, POS Tagging. Retrieved June 20, 2024, from GeeksforGeeks: https://www.geeksforgeeks.org/introduction-to-nltk-tokenization-stemming-lemmatization-pos-tagging/  \n",
        "•\tP, A. K. (2023). EMAIL SPAM DETECTION. Retrieved June 18, 2024, from Kaggle: https://www.kaggle.com/code/anaghakp/email-spam-detection/input  \n",
        "•\tRoldós, I. (2019, November 15). Text Processing: What Is It? Retrieved June 18, 2024, from MonkeyLearn: https://monkeylearn.com/blog/text-processing/#:~:text=Text%20processing%20is%20the%20automated,data%20to%20gain%20valuable%20insights  \n",
        "•\tWsSchools. (2024). Machine Learning - Train/Test. Retrieved June 24, 2024, from WsSchools: https://www.w3schools.com/python/python_ml_train_test.asp  \n",
        "\n"
      ]
    }
  ],
  "metadata": {
    "colab": {
      "provenance": []
    },
    "kernelspec": {
      "display_name": "Python 3",
      "name": "python3"
    },
    "language_info": {
      "codemirror_mode": {
        "name": "ipython",
        "version": 3
      },
      "file_extension": ".py",
      "mimetype": "text/x-python",
      "name": "python",
      "nbconvert_exporter": "python",
      "pygments_lexer": "ipython3",
      "version": "3.11.5"
    }
  },
  "nbformat": 4,
  "nbformat_minor": 0
}
