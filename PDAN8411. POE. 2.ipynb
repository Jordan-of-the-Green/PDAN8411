{
  "cells": [
    {
      "cell_type": "markdown",
      "metadata": {
        "id": "Maz39h5U4UkI"
      },
      "source": [
        "Data Set Source: https://www.kaggle.com/datasets/fedesoriano/stroke-prediction-dataset?resource=download\n",
        "\n",
        "This analysis's dataset was taken from the healthcare-dataset-stroke-data dataset. Numerous health-related characteristics, including age, gender, heart disease, hypertension, marital status, work type, residence type, average glucose level, and body mass index (BMI), are included in the dataset. The classification objective is to determine if a patient has had a stroke, and this is the target variable."
      ]
    },
    {
      "cell_type": "markdown",
      "metadata": {
        "id": "1ZKTSSn54Uf4"
      },
      "source": [
        "# What is Classification?\n",
        "\n",
        "As the name suggests, classification is the process of grouping or classifying objects into various groups or classes according to specific characteristics or features. In machine learning, especially in supervised learning paradigms, it is a fundamental task. In supervised learning, each data point in the training set is labelled with a predefined class or category, and the algorithm uses this information to identify patterns and relationships. (GeeksforGeeks, 2024)\n",
        "\n",
        "Using the patterns discovered during training, the classification process aims to create a model that can reliably classify new, unknown examples to one of the specified classes. These classes can stand for a variety of results or classifications, such spam versus non-spam emails, benign versus malignant tumours, or, as it relates to us, the presence or absence of stroke in patients based on their health data."
      ]
    },
    {
      "cell_type": "markdown",
      "metadata": {
        "id": "KY0eU41j4UcJ"
      },
      "source": [
        "# Appropriateness for Classification:\n",
        "\n",
        "The dataset is capable of being classified since it contains an array of health-related variables that may affect a person's risk of having a stroke. We can forecast the probability of a stroke in patients by analysing these health markers through the use of machine learning techniques, particularly classification models.\n",
        "\n",
        "## Analysis Overview:\n",
        "The primary objective of the investigation is to use the Naïve Bayes Classifier to predict the occurrence of stroke based on health-related data. Specifically, the analysis will involve the following steps:\n",
        "\n",
        "- Data Preprocessing: The dataset will be preprocessed to manage missing values, normalize numerical features, and encode categorical variables if they are present.\n",
        "\n",
        "- Feature Selection: Relevant features will be selected based on their importance in predicting the occurrence of stroke.\n",
        "\n",
        "- Model Training: A subset of the dataset will be used to train the Naïve Bayes Classifier. The performance of the model will be assessed by dividing the dataset into training and testing sets.\n",
        "\n",
        "- Model Evaluation: The trained model will be evaluated using the testing set. The efficacy of the model in categorizing the occurrence of stroke based on health-related factors will be evaluated by computing the prediction accuracy.\n",
        "\n",
        "- Result Visualization: Appropriate plots, such as bar graphs and confusion matrices, will be used to visualize the results, including the accuracy of the predictions. These visualizations will shed light on the model's functionality and suggest any possible areas for improvement.\n",
        "\n",
        "- Impact of Training/Test Splits: The analysis will also take into account how the model's accuracy and predictions are affected by adjusting the training/test splits. This will make it easier to comprehend how resilient the model is to variations in the training data.\n",
        "\n",
        "Comparison with K-NN Algorithm: Finally, a comparison will be made between the Naïve Bayes Classifier and the K-Nearest Neighbors (K-NN) algorithm's accuracy. Which algorithm performs better at categorizing stroke occurrences according to health-related factors will be demonstrated through this comparison."
      ]
    },
    {
      "cell_type": "markdown",
      "metadata": {
        "id": "iwWyS4ZY4UXn"
      },
      "source": [
        "# Conclusion:\n",
        "\n",
        "In conclusion, the goal of this Jupyter Notebook analysis is to employ health-related variables from the healthcare-dataset-stroke-data.csv dataset to predict the occurrence of stroke using the Naïve Bayes Classifier. By performing comprehensive data preprocessing, model training, evaluation, and result visualization, we can gain valuable insights into the factors contributing to stroke and the effectiveness of classification algorithms in predicting its occurrence. Furthermore, contrasting the K-NN algorithm and the Naïve Bayes Classifier will help to clarify how well each performs in this classification task."
      ]
    },
    {
      "cell_type": "code",
      "execution_count": 1,
      "metadata": {
        "id": "tcW36OQf1hkT"
      },
      "outputs": [
        {
          "name": "stdout",
          "output_type": "stream",
          "text": [
            "This code imports necessary libraries for data analysis\n"
          ]
        }
      ],
      "source": [
        "# Importing necessary libraries\n",
        "import pandas as pd\n",
        "import numpy as np\n",
        "from sklearn.model_selection import train_test_split\n",
        "from sklearn.preprocessing import StandardScaler, LabelEncoder\n",
        "from sklearn.naive_bayes import GaussianNB\n",
        "from sklearn.neighbors import KNeighborsClassifier\n",
        "from sklearn.metrics import accuracy_score, confusion_matrix, classification_report\n",
        "import matplotlib.pyplot as plt\n",
        "import seaborn as sns\n",
        "\n",
        "print(\"This code imports necessary libraries for data analysis\")"
      ]
    },
    {
      "cell_type": "code",
      "execution_count": 2,
      "metadata": {
        "id": "oWk-lyeu1hvy"
      },
      "outputs": [
        {
          "name": "stdout",
          "output_type": "stream",
          "text": [
            "This code reads a dataset named 'healthcare-dataset-stroke-data.csv' into a pandas DataFrame called 'df'.\n"
          ]
        }
      ],
      "source": [
        "# Load the dataset\n",
        "df = pd.read_csv('healthcare-dataset-stroke-data.csv')\n",
        "\n",
        "print(\"This code reads a dataset named 'healthcare-dataset-stroke-data.csv' into a pandas DataFrame called 'df'.\")"
      ]
    },
    {
      "cell_type": "code",
      "execution_count": 3,
      "metadata": {},
      "outputs": [
        {
          "name": "stdout",
          "output_type": "stream",
          "text": [
            "id                     0\n",
            "gender                 0\n",
            "age                    0\n",
            "hypertension           0\n",
            "heart_disease          0\n",
            "ever_married           0\n",
            "work_type              0\n",
            "Residence_type         0\n",
            "avg_glucose_level      0\n",
            "bmi                  201\n",
            "smoking_status         0\n",
            "stroke                 0\n",
            "dtype: int64\n",
            "\n",
            "This code prints the sum of missing values in each column of the DataFrame 'df'.\n"
          ]
        }
      ],
      "source": [
        "# Check for missing values\n",
        "print(df.isnull().sum())\n",
        "\n",
        "print(\"\\nThis code prints the sum of missing values in each column of the DataFrame 'df'.\")"
      ]
    },
    {
      "cell_type": "code",
      "execution_count": 4,
      "metadata": {},
      "outputs": [
        {
          "data": {
            "text/plain": [
              "Index(['id', 'gender', 'age', 'hypertension', 'heart_disease', 'ever_married',\n",
              "       'work_type', 'Residence_type', 'avg_glucose_level', 'bmi',\n",
              "       'smoking_status', 'stroke'],\n",
              "      dtype='object')"
            ]
          },
          "execution_count": 4,
          "metadata": {},
          "output_type": "execute_result"
        }
      ],
      "source": [
        "# Display the columns of the dataset\n",
        "df.columns"
      ]
    },
    {
      "cell_type": "code",
      "execution_count": 5,
      "metadata": {
        "colab": {
          "base_uri": "https://localhost:8080/",
          "height": 206
        },
        "id": "oiCpYYJe1hyw",
        "outputId": "8284be0f-1889-41b5-e006-4fe7cbb7b9fa"
      },
      "outputs": [
        {
          "data": {
            "text/html": [
              "<div>\n",
              "<style scoped>\n",
              "    .dataframe tbody tr th:only-of-type {\n",
              "        vertical-align: middle;\n",
              "    }\n",
              "\n",
              "    .dataframe tbody tr th {\n",
              "        vertical-align: top;\n",
              "    }\n",
              "\n",
              "    .dataframe thead th {\n",
              "        text-align: right;\n",
              "    }\n",
              "</style>\n",
              "<table border=\"1\" class=\"dataframe\">\n",
              "  <thead>\n",
              "    <tr style=\"text-align: right;\">\n",
              "      <th></th>\n",
              "      <th>id</th>\n",
              "      <th>gender</th>\n",
              "      <th>age</th>\n",
              "      <th>hypertension</th>\n",
              "      <th>heart_disease</th>\n",
              "      <th>ever_married</th>\n",
              "      <th>work_type</th>\n",
              "      <th>Residence_type</th>\n",
              "      <th>avg_glucose_level</th>\n",
              "      <th>bmi</th>\n",
              "      <th>smoking_status</th>\n",
              "      <th>stroke</th>\n",
              "    </tr>\n",
              "  </thead>\n",
              "  <tbody>\n",
              "    <tr>\n",
              "      <th>0</th>\n",
              "      <td>9046</td>\n",
              "      <td>Male</td>\n",
              "      <td>67.0</td>\n",
              "      <td>0</td>\n",
              "      <td>1</td>\n",
              "      <td>Yes</td>\n",
              "      <td>Private</td>\n",
              "      <td>Urban</td>\n",
              "      <td>228.69</td>\n",
              "      <td>36.6</td>\n",
              "      <td>formerly smoked</td>\n",
              "      <td>1</td>\n",
              "    </tr>\n",
              "    <tr>\n",
              "      <th>1</th>\n",
              "      <td>51676</td>\n",
              "      <td>Female</td>\n",
              "      <td>61.0</td>\n",
              "      <td>0</td>\n",
              "      <td>0</td>\n",
              "      <td>Yes</td>\n",
              "      <td>Self-employed</td>\n",
              "      <td>Rural</td>\n",
              "      <td>202.21</td>\n",
              "      <td>NaN</td>\n",
              "      <td>never smoked</td>\n",
              "      <td>1</td>\n",
              "    </tr>\n",
              "    <tr>\n",
              "      <th>2</th>\n",
              "      <td>31112</td>\n",
              "      <td>Male</td>\n",
              "      <td>80.0</td>\n",
              "      <td>0</td>\n",
              "      <td>1</td>\n",
              "      <td>Yes</td>\n",
              "      <td>Private</td>\n",
              "      <td>Rural</td>\n",
              "      <td>105.92</td>\n",
              "      <td>32.5</td>\n",
              "      <td>never smoked</td>\n",
              "      <td>1</td>\n",
              "    </tr>\n",
              "    <tr>\n",
              "      <th>3</th>\n",
              "      <td>60182</td>\n",
              "      <td>Female</td>\n",
              "      <td>49.0</td>\n",
              "      <td>0</td>\n",
              "      <td>0</td>\n",
              "      <td>Yes</td>\n",
              "      <td>Private</td>\n",
              "      <td>Urban</td>\n",
              "      <td>171.23</td>\n",
              "      <td>34.4</td>\n",
              "      <td>smokes</td>\n",
              "      <td>1</td>\n",
              "    </tr>\n",
              "    <tr>\n",
              "      <th>4</th>\n",
              "      <td>1665</td>\n",
              "      <td>Female</td>\n",
              "      <td>79.0</td>\n",
              "      <td>1</td>\n",
              "      <td>0</td>\n",
              "      <td>Yes</td>\n",
              "      <td>Self-employed</td>\n",
              "      <td>Rural</td>\n",
              "      <td>174.12</td>\n",
              "      <td>24.0</td>\n",
              "      <td>never smoked</td>\n",
              "      <td>1</td>\n",
              "    </tr>\n",
              "  </tbody>\n",
              "</table>\n",
              "</div>"
            ],
            "text/plain": [
              "      id  gender   age  hypertension  heart_disease ever_married  \\\n",
              "0   9046    Male  67.0             0              1          Yes   \n",
              "1  51676  Female  61.0             0              0          Yes   \n",
              "2  31112    Male  80.0             0              1          Yes   \n",
              "3  60182  Female  49.0             0              0          Yes   \n",
              "4   1665  Female  79.0             1              0          Yes   \n",
              "\n",
              "       work_type Residence_type  avg_glucose_level   bmi   smoking_status  \\\n",
              "0        Private          Urban             228.69  36.6  formerly smoked   \n",
              "1  Self-employed          Rural             202.21   NaN     never smoked   \n",
              "2        Private          Rural             105.92  32.5     never smoked   \n",
              "3        Private          Urban             171.23  34.4           smokes   \n",
              "4  Self-employed          Rural             174.12  24.0     never smoked   \n",
              "\n",
              "   stroke  \n",
              "0       1  \n",
              "1       1  \n",
              "2       1  \n",
              "3       1  \n",
              "4       1  "
            ]
          },
          "execution_count": 5,
          "metadata": {},
          "output_type": "execute_result"
        }
      ],
      "source": [
        "# Display the first 5 rows of the dataset\n",
        "df.head(5)"
      ]
    },
    {
      "cell_type": "code",
      "execution_count": 6,
      "metadata": {},
      "outputs": [
        {
          "name": "stdout",
          "output_type": "stream",
          "text": [
            "These are the 5 categorical variables: \n",
            "\n",
            "['gender', 'ever_married', 'work_type', 'Residence_type', 'smoking_status']\n",
            "\n",
            "The target variable is:  stroke\n"
          ]
        }
      ],
      "source": [
        "# Finding categorical variables\n",
        "categorical = [var for var in df.columns if df[var].dtype == 'O']\n",
        "target_variable = 'stroke'\n",
        "print('These are the {} categorical variables: \\n'.format(len(categorical)))\n",
        "print(categorical)\n",
        "# Print the target variable\n",
        "print('\\nThe target variable is: ', target_variable)"
      ]
    },
    {
      "cell_type": "code",
      "execution_count": 7,
      "metadata": {
        "id": "FcHM7fMv1h1p"
      },
      "outputs": [
        {
          "name": "stdout",
          "output_type": "stream",
          "text": [
            "\n",
            "The code fills any missing values in the 'bmi' column of the DataFrame 'df' with the mean value of the 'bmi' column.\n",
            "\n"
          ]
        }
      ],
      "source": [
        "# Data Preprocessing\n",
        "# Handling missing values\n",
        "df['bmi'].fillna(df['bmi'].mean(), inplace=True)\n",
        "\n",
        "print(\"\\nThe code fills any missing values in the 'bmi' column of the DataFrame 'df' with the mean value of the 'bmi' column.\\n\")\n"
      ]
    },
    {
      "cell_type": "code",
      "execution_count": 8,
      "metadata": {
        "id": "C1jh-b2_1h4o"
      },
      "outputs": [],
      "source": [
        "# Encoding categorical variables\n",
        "label_encoders = {}\n",
        "for column in ['gender', 'ever_married', 'work_type', 'Residence_type', 'smoking_status']:\n",
        "    le = LabelEncoder()\n",
        "    df[column] = le.fit_transform(df[column])\n",
        "    label_encoders[column] = le\n",
        "    \n",
        "# The code encodes categorical variables by using LabelEncoder to transform each specified column ('gender', 'ever_married', 'work_type', 'Residence_type', 'smoking_status') into numerical values, and stores the LabelEncoder objects in a dictionary for later use."
      ]
    },
    {
      "cell_type": "code",
      "execution_count": 9,
      "metadata": {
        "id": "2p4M5NA91h7q"
      },
      "outputs": [
        {
          "name": "stdout",
          "output_type": "stream",
          "text": [
            "\n",
            "The code defines the features and target variable for the model. X contains the DataFrame 'df' with the 'id' and 'stroke' columns dropped, while y contains the 'stroke' column.\n",
            "\n"
          ]
        }
      ],
      "source": [
        "# Defining features and target variable\n",
        "X = df.drop(['id', 'stroke'], axis=1)\n",
        "y = df['stroke']\n",
        "\n",
        "print(\"\\nThe code defines the features and target variable for the model. X contains the DataFrame 'df' with the 'id' and 'stroke' columns dropped, while y contains the 'stroke' column.\\n\")"
      ]
    },
    {
      "cell_type": "code",
      "execution_count": 10,
      "metadata": {
        "id": "-zWIj2H31h-q"
      },
      "outputs": [
        {
          "name": "stdout",
          "output_type": "stream",
          "text": [
            "\n",
            "The code splits the dataset into training and testing sets, with 30% of the data used for testing and a random state of 42 for reproducibility.\n",
            "\n"
          ]
        }
      ],
      "source": [
        "# ***************************************************************************************\n",
        "#    Title: Machine Learning - Train/Test\n",
        "#    Author: W3Schools\n",
        "#    Date Published: 2024\n",
        "#    Date Retrieved: 18 May 2024\n",
        "#    Code version: 1\n",
        "#    Availability: https://www.w3schools.com/python/python_ml_train_test.asp\n",
        "#\n",
        "# ***************************************************************************************\n",
        "\n",
        "# Splitting the dataset into training and testing sets\n",
        "X_train, X_test, y_train, y_test = train_test_split(X, y, test_size=0.3, random_state=42)\n",
        "\n",
        "print(\"\\nThe code splits the dataset into training and testing sets, with 30% of the data used for testing and a random state of 42 for reproducibility.\\n\")"
      ]
    },
    {
      "cell_type": "code",
      "execution_count": 11,
      "metadata": {
        "id": "EUNf1ZE91iBq"
      },
      "outputs": [
        {
          "name": "stdout",
          "output_type": "stream",
          "text": [
            "\n",
            "The code normalizes numerical features by scaling the training data 'X_train' and test data 'X_test' using the StandardScaler.\n",
            "\n"
          ]
        }
      ],
      "source": [
        "# ***************************************************************************************\n",
        "#    Title: Machine Learning - Train/Test\n",
        "#    Author: W3Schools\n",
        "#    Date Published: 2024\n",
        "#    Date Retrieved: 18 May 2024\n",
        "#    Code version: 1\n",
        "#    Availability: https://www.w3schools.com/python/python_ml_train_test.asp\n",
        "#\n",
        "# ***************************************************************************************\n",
        "\n",
        "# Normalizing numerical features\n",
        "scaler = StandardScaler()\n",
        "X_train = scaler.fit_transform(X_train)\n",
        "X_test = scaler.transform(X_test)\n",
        "\n",
        "print(\"\\nThe code normalizes numerical features by scaling the training data 'X_train' and test data 'X_test' using the StandardScaler.\\n\")"
      ]
    },
    {
      "cell_type": "code",
      "execution_count": 12,
      "metadata": {
        "id": "Ts_LuTkX1iEq"
      },
      "outputs": [
        {
          "name": "stdout",
          "output_type": "stream",
          "text": [
            "\n",
            "Model Training and Evaluation: Naive Bayes Classifier\n",
            "# The code initializes a Naive Bayes classifier, trains it using the training data, and then uses it to make predictions on the test data.\n",
            "\n"
          ]
        }
      ],
      "source": [
        "# Model Training and Evaluation: Naive Bayes Classifier\n",
        "nb_classifier = GaussianNB()\n",
        "nb_classifier.fit(X_train, y_train)\n",
        "y_pred_nb = nb_classifier.predict(X_test)\n",
        "\n",
        "print(\"\\nModel Training and Evaluation: Naive Bayes Classifier\\n# The code initializes a Naive Bayes classifier, trains it using the training data, and then uses it to make predictions on the test data.\\n\")"
      ]
    },
    {
      "cell_type": "code",
      "execution_count": 13,
      "metadata": {
        "id": "pd9WL0O21iHy"
      },
      "outputs": [],
      "source": [
        "# Evaluating Naive Bayes Classifier\n",
        "accuracy_nb = accuracy_score(y_test, y_pred_nb)\n",
        "cm_nb = confusion_matrix(y_test, y_pred_nb)\n",
        "report_nb = classification_report(y_test, y_pred_nb)"
      ]
    },
    {
      "cell_type": "code",
      "execution_count": 14,
      "metadata": {
        "colab": {
          "base_uri": "https://localhost:8080/"
        },
        "id": "8M8TdE7M1iK2",
        "outputId": "d61dab8d-596e-41ba-cee5-824d7dd74e4f"
      },
      "outputs": [
        {
          "name": "stdout",
          "output_type": "stream",
          "text": [
            "Naive Bayes Classifier Accuracy: 86.50%\n"
          ]
        }
      ],
      "source": [
        "print(\"Naive Bayes Classifier Accuracy: {:.2f}%\".format(accuracy_nb * 100))"
      ]
    },
    {
      "cell_type": "code",
      "execution_count": 15,
      "metadata": {
        "colab": {
          "base_uri": "https://localhost:8080/"
        },
        "id": "-pHNJUf12djk",
        "outputId": "f1bb0a54-6c03-41a8-b0c3-9ccbcaa4d035"
      },
      "outputs": [
        {
          "name": "stdout",
          "output_type": "stream",
          "text": [
            "Confusion Matrix:\n",
            " [[1290  154]\n",
            " [  53   36]]\n"
          ]
        }
      ],
      "source": [
        "print(\"Confusion Matrix:\\n\", cm_nb)"
      ]
    },
    {
      "cell_type": "code",
      "execution_count": 16,
      "metadata": {
        "colab": {
          "base_uri": "https://localhost:8080/"
        },
        "id": "_KKN-oNd2dbF",
        "outputId": "a060069b-3e17-442d-dcb6-b5528978ad49"
      },
      "outputs": [
        {
          "name": "stdout",
          "output_type": "stream",
          "text": [
            "Classification Report:\n",
            "               precision    recall  f1-score   support\n",
            "\n",
            "           0       0.96      0.89      0.93      1444\n",
            "           1       0.19      0.40      0.26        89\n",
            "\n",
            "    accuracy                           0.86      1533\n",
            "   macro avg       0.58      0.65      0.59      1533\n",
            "weighted avg       0.92      0.86      0.89      1533\n",
            "\n"
          ]
        }
      ],
      "source": [
        "print(\"Classification Report:\\n\", report_nb)"
      ]
    },
    {
      "cell_type": "code",
      "execution_count": 17,
      "metadata": {
        "id": "L4zsYWth1iNy"
      },
      "outputs": [
        {
          "name": "stdout",
          "output_type": "stream",
          "text": [
            "\n",
            "Model Training and Evaluation: K-Nearest Neighbors Classifier\n",
            "# The code initializes a K-Nearest Neighbors classifier, trains it using the training data, and then uses it to make predictions on the test data.\n",
            "\n"
          ]
        }
      ],
      "source": [
        "# Model Training and Evaluation: K-Nearest Neighbors Classifier\n",
        "knn_classifier = KNeighborsClassifier(n_neighbors=5)\n",
        "knn_classifier.fit(X_train, y_train)\n",
        "y_pred_knn = knn_classifier.predict(X_test)\n",
        "\n",
        "print(\"\\nModel Training and Evaluation: K-Nearest Neighbors Classifier\\n# The code initializes a K-Nearest Neighbors classifier, trains it using the training data, and then uses it to make predictions on the test data.\\n\")"
      ]
    },
    {
      "cell_type": "code",
      "execution_count": 18,
      "metadata": {
        "id": "wu2xmEG_1iQ5"
      },
      "outputs": [],
      "source": [
        "# Evaluating K-Nearest Neighbors Classifier\n",
        "accuracy_knn = accuracy_score(y_test, y_pred_knn)\n",
        "cm_knn = confusion_matrix(y_test, y_pred_knn)\n",
        "report_knn = classification_report(y_test, y_pred_knn)"
      ]
    },
    {
      "cell_type": "code",
      "execution_count": 19,
      "metadata": {
        "colab": {
          "base_uri": "https://localhost:8080/"
        },
        "id": "9pRGllJQ1iT5",
        "outputId": "4f30e42c-9c54-4b19-99a5-94c907afb1b5"
      },
      "outputs": [
        {
          "name": "stdout",
          "output_type": "stream",
          "text": [
            "K-Nearest Neighbors Classifier Accuracy: 94.06%\n"
          ]
        }
      ],
      "source": [
        "print(\"K-Nearest Neighbors Classifier Accuracy: {:.2f}%\".format(accuracy_knn * 100))"
      ]
    },
    {
      "cell_type": "code",
      "execution_count": 20,
      "metadata": {
        "colab": {
          "base_uri": "https://localhost:8080/"
        },
        "id": "GAkAAvwj2teK",
        "outputId": "157a361e-22ac-4700-80cd-7db72781d648"
      },
      "outputs": [
        {
          "name": "stdout",
          "output_type": "stream",
          "text": [
            "Confusion Matrix:\n",
            " [[1441    3]\n",
            " [  88    1]]\n"
          ]
        }
      ],
      "source": [
        "print(\"Confusion Matrix:\\n\", cm_knn)"
      ]
    },
    {
      "cell_type": "code",
      "execution_count": 21,
      "metadata": {
        "colab": {
          "base_uri": "https://localhost:8080/"
        },
        "id": "OrZ0SxVc2tSh",
        "outputId": "6144eb21-a226-4484-e63d-ddaeaa0c0627"
      },
      "outputs": [
        {
          "name": "stdout",
          "output_type": "stream",
          "text": [
            "Classification Report:\n",
            "               precision    recall  f1-score   support\n",
            "\n",
            "           0       0.94      1.00      0.97      1444\n",
            "           1       0.25      0.01      0.02        89\n",
            "\n",
            "    accuracy                           0.94      1533\n",
            "   macro avg       0.60      0.50      0.50      1533\n",
            "weighted avg       0.90      0.94      0.91      1533\n",
            "\n"
          ]
        }
      ],
      "source": [
        "print(\"Classification Report:\\n\", report_knn)"
      ]
    },
    {
      "cell_type": "code",
      "execution_count": 22,
      "metadata": {
        "colab": {
          "base_uri": "https://localhost:8080/",
          "height": 487
        },
        "id": "ELTZP7ud13q3",
        "outputId": "33c363f5-463f-41b6-8a8c-288c546ae17c"
      },
      "outputs": [
        {
          "data": {
            "image/png": "[encoded data removed]",
            "text/plain": [
              "<Figure size 1400x500 with 4 Axes>"
            ]
          },
          "metadata": {},
          "output_type": "display_data"
        }
      ],
      "source": [
        "# ***************************************************************************************\n",
        "#    Title: Confusion Matrix in Machine Learning\n",
        "#    Author: GeeksforGeeks\n",
        "#    Date Published: 13 May 2024\n",
        "#    Date Retrieved: 19 May 2024\n",
        "#    Code version: 1\n",
        "#    Availability: https://www.geeksforgeeks.org/confusion-matrix-machine-learning/\n",
        "#\n",
        "# ***************************************************************************************\n",
        "\n",
        "# Visualizing Results\n",
        "# Plotting Confusion Matrices\n",
        "fig, ax = plt.subplots(1, 2, figsize=(14, 5))\n",
        "\n",
        "sns.heatmap(cm_nb, annot=True, fmt='d', cmap='Greens', ax=ax[0])\n",
        "ax[0].set_title('Naive Bayes Confusion Matrix')\n",
        "ax[0].set_xlabel('Predicted')\n",
        "ax[0].set_ylabel('Actual')\n",
        "\n",
        "sns.heatmap(cm_knn, annot=True, fmt='d', cmap='Purples', ax=ax[1])\n",
        "ax[1].set_title('K-Nearest Neighbors Confusion Matrix')\n",
        "ax[1].set_xlabel('Predicted')\n",
        "ax[1].set_ylabel('Actual')\n",
        "\n",
        "plt.show()"
      ]
    },
    {
      "cell_type": "code",
      "execution_count": 23,
      "metadata": {
        "colab": {
          "base_uri": "https://localhost:8080/",
          "height": 487
        },
        "id": "xuH3_clV13TI",
        "outputId": "47045764-55e3-4af3-b164-b38061980e1d"
      },
      "outputs": [
        {
          "data": {
            "image/png": "[encoded data removed]",
            "text/plain": [
              "<Figure size 800x500 with 1 Axes>"
            ]
          },
          "metadata": {},
          "output_type": "display_data"
        }
      ],
      "source": [
        "# ***************************************************************************************\n",
        "#    Title: Bar Plot in Python – How to compare Groups visually\n",
        "#    Author: Venmani A D\n",
        "#    Date Published: 2024\n",
        "#    Date Retrieved: 19 May 2024\n",
        "#    Code version: 1\n",
        "#    Availability: https://www.machinelearningplus.com/plots/bar-plot-in-python/\n",
        "#\n",
        "# ***************************************************************************************\n",
        "\n",
        "# Plotting Accuracy Comparison\n",
        "models = ['Naive Bayes', 'K-Nearest Neighbors']\n",
        "accuracies = [accuracy_nb * 100, accuracy_knn * 100]\n",
        "\n",
        "plt.figure(figsize=(8, 5))\n",
        "plt.bar(models, accuracies, color=['green', 'purple'])\n",
        "plt.xlabel('Model')\n",
        "plt.ylabel('Accuracy (%)')\n",
        "plt.title('Model Accuracy Comparison')\n",
        "plt.ylim(0, 100)\n",
        "plt.show()"
      ]
    },
    {
      "cell_type": "code",
      "execution_count": 24,
      "metadata": {
        "colab": {
          "base_uri": "https://localhost:8080/",
          "height": 564
        },
        "id": "_0HXBL9_2HIN",
        "outputId": "83069699-850d-464a-d51f-489438bb2618"
      },
      "outputs": [
        {
          "data": {
            "image/png": "[encoded data removed]",
            "text/plain": [
              "<Figure size 1000x600 with 1 Axes>"
            ]
          },
          "metadata": {},
          "output_type": "display_data"
        },
        {
          "name": "stdout",
          "output_type": "stream",
          "text": [
            "The code evaluates the impact of different training/test split ratios (0.1, 0.2, 0.3, 0.4, and 0.5) on the accuracy of two machine learning models, Naive Bayes and K-Nearest Neighbors (KNN). It trains the models using varying ratios of training and testing data, calculates their accuracies, and plots the results on a graph to visualize how the accuracy changes with different split ratios.\n"
          ]
        }
      ],
      "source": [
        "# ***************************************************************************************\n",
        "#    Title: Custom Legends with Matplotlib\n",
        "#    Author: Venmani A D\n",
        "#    Date Published: 07 December 2023\n",
        "#    Date Retrieved: 22 May 2024\n",
        "#    Code version: 1\n",
        "#    Availability: https://www.geeksforgeeks.org/custom-legends-with-matplotlib/\n",
        "#\n",
        "# ***************************************************************************************\n",
        "\n",
        "# Impact of Training/Test Splits\n",
        "split_ratios = [0.1, 0.2, 0.3, 0.4, 0.5]\n",
        "nb_accuracies = []\n",
        "knn_accuracies = []\n",
        "\n",
        "for ratio in split_ratios:\n",
        "    X_train, X_test, y_train, y_test = train_test_split(X, y, test_size=ratio, random_state=42)\n",
        "    X_train = scaler.fit_transform(X_train)\n",
        "    X_test = scaler.transform(X_test)\n",
        "\n",
        "    nb_classifier.fit(X_train, y_train)\n",
        "    y_pred_nb = nb_classifier.predict(X_test)\n",
        "    nb_accuracies.append(accuracy_score(y_test, y_pred_nb) * 100)\n",
        "\n",
        "    knn_classifier.fit(X_train, y_train)\n",
        "    y_pred_knn = knn_classifier.predict(X_test)\n",
        "    knn_accuracies.append(accuracy_score(y_test, y_pred_knn) * 100)\n",
        "\n",
        "plt.figure(figsize=(10, 6))\n",
        "plt.plot(split_ratios, nb_accuracies, marker='o', label='Naive Bayes', color='green')\n",
        "plt.plot(split_ratios, knn_accuracies, marker='o', label='K-Nearest Neighbors', color='purple')\n",
        "plt.xlabel('Test Size Ratio')\n",
        "plt.ylabel('Accuracy (%)')\n",
        "plt.title('Impact of Training/Test Split on Model Accuracy')\n",
        "plt.legend()\n",
        "plt.show()\n",
        "\n",
        "print (\"The code evaluates the impact of different training/test split ratios (0.1, 0.2, 0.3, 0.4, and 0.5) on the accuracy of two machine learning models, Naive Bayes and K-Nearest Neighbors (KNN). It trains the models using varying ratios of training and testing data, calculates their accuracies, and plots the results on a graph to visualize how the accuracy changes with different split ratios.\")"
      ]
    },
    {
      "cell_type": "markdown",
      "metadata": {
        "id": "L_5Jn4Ds6EO2"
      },
      "source": [
        "# Bibliography\n",
        "- FEDESORIANO. (2021, January 26). Stroke Prediction Dataset. Retrieved from Kaggle: https://www.kaggle.com/datasets/fedesoriano/stroke-prediction-dataset?resource=download\n",
        "- GeeksforGeeks. (2024, January 24). Getting started with Classification. Retrieved May 16, 2024, from GeeksforGeeks: https://www.geeksforgeeks.org/getting-started-with-classification/"
      ]
    }
  ],
  "metadata": {
    "colab": {
      "name": "Welcome To Colab",
      "provenance": []
    },
    "kernelspec": {
      "display_name": "Python 3",
      "name": "python3"
    },
    "language_info": {
      "codemirror_mode": {
        "name": "ipython",
        "version": 3
      },
      "file_extension": ".py",
      "mimetype": "text/x-python",
      "name": "python",
      "nbconvert_exporter": "python",
      "pygments_lexer": "ipython3",
      "version": "3.11.5"
    }
  },
  "nbformat": 4,
  "nbformat_minor": 0
}
